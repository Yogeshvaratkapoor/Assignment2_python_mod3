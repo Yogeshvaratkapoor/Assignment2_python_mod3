{
  "nbformat": 4,
  "nbformat_minor": 0,
  "metadata": {
    "colab": {
      "provenance": []
    },
    "kernelspec": {
      "name": "python3",
      "display_name": "Python 3"
    },
    "language_info": {
      "name": "python"
    }
  },
  "cells": [
    {
      "cell_type": "markdown",
      "source": [
        "#Python Data Structures Assignment"
      ],
      "metadata": {
        "id": "di9zHaG2wM6a"
      }
    },
    {
      "cell_type": "markdown",
      "source": [
        "###Theory Questions\n"
      ],
      "metadata": {
        "id": "aCP2zGzcwUE9"
      }
    },
    {
      "cell_type": "markdown",
      "source": [
        "Question1.What are data structures, and why are they important?\n",
        "- Data structures are organized ways to store, manage, and manipulate data efficiently. They include lists, tuples, dictionaries, sets, stacks, queues, lists. Each structure has specific use cases based on data access, storage, and modification needs."
      ],
      "metadata": {
        "id": "N6L7IhX4wZbx"
      }
    },
    {
      "cell_type": "markdown",
      "source": [
        "  Question2. Explain the difference between mutable and immutable data type with examples?\n",
        "  - mutable are those data types which can modified and can be change after its creation and no new object is formend in the process of modification\n",
        "  some of the examples are Lists,dictionary,sets\n",
        "  - immutable are those data types which create a new object at the time of modification in the value of the current object therefore we cannot change it after their creation\n",
        "  some of the examples are int,float,string,tuples\n",
        "-\n",
        "  "
      ],
      "metadata": {
        "id": "QbR7giqbLt-b"
      }
    },
    {
      "cell_type": "markdown",
      "source": [
        "Question3.What are the main differences between lists and tuples in Python4?\n",
        "- The main and the basic difference between the tuple and lists are that lists are mutable therefre it executes slower than tuple and dynamically change\n",
        "- tuples are immutable cannot be changed after its creation and used for aster and fixed information storage like email, phonenumbers important information\n"
      ],
      "metadata": {
        "id": "4V6ixZJccrlO"
      }
    },
    {
      "cell_type": "markdown",
      "source": [
        "Question4.Describe how dictionaries store data?\n",
        "dictionary store data in a key and value proposition, like there should be a key and it has some value for example\n",
        "dict = {key1: value1, key2: value2...}"
      ],
      "metadata": {
        "id": "gIkGTJD8eKhK"
      }
    },
    {
      "cell_type": "markdown",
      "source": [
        "Question5.Why might you use a set instead of a list in Python?\n",
        "- we can use a set over a list in python because a set is an unordered collection of elements which can only store unique elements and it removes duplicate and also it does some mathametial concepts like union,intercetion,symetrical diffrenece, diffrence etc\n"
      ],
      "metadata": {
        "id": "KYwu46CoenRE"
      }
    },
    {
      "cell_type": "markdown",
      "source": [
        "Question6.What is a string in Python, and how is it different from a list?\n",
        "- A string is a data type in python which can store data in alphabetical character form under the sign of ''or \"\"\n",
        "- its diffrent from list because list is collection of elements which can store a float, string and integer value and it is mutable also\n",
        "- strings are immutable and only store character which can form an element\n",
        "\n"
      ],
      "metadata": {
        "id": "9NjyrazufqFa"
      }
    },
    {
      "cell_type": "markdown",
      "source": [
        "Question7.How do tuples ensure data integrity in Python?\n",
        "- once created tuples cannot be change means they are immutable therefore it prevent acciential changes .Tuples can be used as dictionary keys or set elements, ensuring reliable data storage.hence they are hashable also that mentain data integrity"
      ],
      "metadata": {
        "id": "BM9J5wzjgiKm"
      }
    },
    {
      "cell_type": "markdown",
      "source": [
        "Question8. What is a hash table, and how does it relate to dictionaries in Python?\n",
        "- A hash table is a data structure that maps keys to values using a hash function for fast lookups. In Python, dictionaries (dict) use hash tables internally, Keys must be immutable (e.g., int, str, tuple)."
      ],
      "metadata": {
        "id": "4DMSa9FihZcR"
      }
    },
    {
      "cell_type": "markdown",
      "source": [
        "Question9.Can lists contain different data types in Python?\n",
        "- yes, it can store list uner a list making it a nested list or tuples under a list,or int,float,dictionaries that makes it as a quality of lists in python"
      ],
      "metadata": {
        "id": "xPa64I62iH39"
      }
    },
    {
      "cell_type": "markdown",
      "source": [
        "Question10.Explain why strings are immutable in Python?\n",
        "\n",
        "- Strings are immutable in python because when we try to change the value of the string it creates another object.\n",
        "- in python string is hashable means it can be used under the list,dictionaries or sets and it has its memory efficiency and menatain the security and integrity of the data stored in the strings\n",
        "\n"
      ],
      "metadata": {
        "id": "a45npGJkiyek"
      }
    },
    {
      "cell_type": "markdown",
      "source": [
        " Question11.What advantages do dictionaries offer over lists for certain tasks?\n",
        " - Key-Value Mapping Ideal for structured data where elements have labels (e.g.\n",
        "No Need for Indexing  Accessing data by keys is more intuitive than using numeric index.\n",
        " - Efficient Updates Adding or modifying values in dictionaries is faster than searching and updating lists."
      ],
      "metadata": {
        "id": "zI5wKTpvj4pB"
      }
    },
    {
      "cell_type": "markdown",
      "source": [
        "Question12.Describe a scenario where using a tuple would be preferable over a list?\n",
        "- we can use tuples for Fixed Data Sets Storing constants like coordinates (latitude, longitude)"
      ],
      "metadata": {
        "id": "V6cUQUBFscSK"
      }
    },
    {
      "cell_type": "markdown",
      "source": [
        "Question13.How do sets handle duplicate values in Python?\n",
        "- sets remove the duplicate values which present in the data type sets\n",
        "\n",
        "\n",
        "\n"
      ],
      "metadata": {
        "id": "c2nIrwc6s1kZ"
      }
    },
    {
      "cell_type": "markdown",
      "source": [
        "Question14.How does the “in” keyword work differently for lists and dictionaries?\n",
        "- For lists, the \"in\" keyword checks if a value exists, while for dictionaries, it checks if a key exists.\n"
      ],
      "metadata": {
        "id": "YeBaxTdJtadU"
      }
    },
    {
      "cell_type": "markdown",
      "source": [
        "Question15.Can you modify the elements of a tuple? Explain why or why not?\n",
        "The elements stored in a tuple cannot be modified because tuples are immutable in Python. Once created, their elements cannot be changed, added, or removed. This ensures data integrity and allows tuples to be used as hashable keys in dictionaries and efficient for memory usage"
      ],
      "metadata": {
        "id": "lMLkY7OStqkP"
      }
    },
    {
      "cell_type": "markdown",
      "source": [
        "Question 16.What is a nested dictionary, and give an example of its use case?\n",
        "- A nested dictionary is a dictionary where values can themselves be dictionaries, allowing for a multi-level data structure.\n",
        "- Use Case:It is useful for representing hierarchical data, such as an organization's employee details or a school’s class information."
      ],
      "metadata": {
        "id": "dGsMHmxXu-b4"
      }
    },
    {
      "cell_type": "markdown",
      "source": [
        "Question17. Describe the time complexity of accessing elements in a dictionary\n",
        "- In Python, dictionaries are implemented using hash tables, which allow for efficient access.\n",
        "\n",
        "-  O(1)  Accessing an element by its key is performed in constant time, regardless of the dictionary size."
      ],
      "metadata": {
        "id": "k9GD0lrfvdSh"
      }
    },
    {
      "cell_type": "markdown",
      "source": [
        "Questiion18.In what situations are lists preferred over dictionaries?\n",
        "- Ordered Data :Lists maintain the order of elements, useful when sequence matters.\n",
        "- Index-Based Access : When accessing elements using numeric indices (e.g., for loops).\n",
        "- No Key-Value Mapping : When data doesn’t need key-value pairs."
      ],
      "metadata": {
        "id": "VPjTmLXYvwEd"
      }
    },
    {
      "cell_type": "markdown",
      "source": [
        "Question19.Why are dictionaries considered unordered, and how does that affect data retrieval?\n",
        "- Dictionaries in Python are considered unordered because the elements are stored based on hashing and not in a specific sequence. This means that the order of items is not guaranteed. However, it doesn't affect data retrieval, as dictionary keys allow for fast O(1) lookups based on their unique identifiers."
      ],
      "metadata": {
        "id": "HjKsh55lwUzH"
      }
    },
    {
      "cell_type": "markdown",
      "source": [
        "Question20.Explain the difference between a list and a dictionary in terms of data retrieval?\n",
        "- In terms of data retrival in lists we need some index number to retrival of data but in dictionaries we have unique keys which is customised by us and its became easy for us to call the data or data retrival"
      ],
      "metadata": {
        "id": "BEqe9G9gwpWL"
      }
    },
    {
      "cell_type": "markdown",
      "source": [
        "### Practical Questions"
      ],
      "metadata": {
        "id": "wps0tDRDxzXB"
      }
    },
    {
      "cell_type": "code",
      "source": [
        "#Question1.Write a code to create a string with your name and print itE\n",
        "name = \"Yogesh\"\n",
        "print(name)"
      ],
      "metadata": {
        "colab": {
          "base_uri": "https://localhost:8080/"
        },
        "id": "J4tOt3m3x8Jo",
        "outputId": "ac3db997-9e3f-45ba-ea7f-60686547ad72"
      },
      "execution_count": 1,
      "outputs": [
        {
          "output_type": "stream",
          "name": "stdout",
          "text": [
            "Yogesh\n"
          ]
        }
      ]
    },
    {
      "cell_type": "code",
      "source": [
        "#Question2.Write a code to find the length of the string \"Hello World\"\n",
        "string = \"Hello World\"\n",
        "print(len(string))"
      ],
      "metadata": {
        "colab": {
          "base_uri": "https://localhost:8080/"
        },
        "id": "KhbbLnnLx8GZ",
        "outputId": "51d84a1d-7382-41df-a41c-ac97d6ab42cd"
      },
      "execution_count": 2,
      "outputs": [
        {
          "output_type": "stream",
          "name": "stdout",
          "text": [
            "11\n"
          ]
        }
      ]
    },
    {
      "cell_type": "code",
      "source": [
        "#Question3.Write a code to slice the first 3 characters from the string \"Python Programming\"?\n",
        "string = \"Python Programming\"\n",
        "print(string[0:3])"
      ],
      "metadata": {
        "colab": {
          "base_uri": "https://localhost:8080/"
        },
        "id": "s3t60n8rx8DR",
        "outputId": "abfba04c-b5b3-410d-e3f0-e2eb2f24da6a"
      },
      "execution_count": 3,
      "outputs": [
        {
          "output_type": "stream",
          "name": "stdout",
          "text": [
            "Pyt\n"
          ]
        }
      ]
    },
    {
      "cell_type": "code",
      "source": [
        "#Question4.Write a code to convert the string \"hello\" to uppercase\n",
        "string = \"hello\"\n",
        "print(string.upper())"
      ],
      "metadata": {
        "colab": {
          "base_uri": "https://localhost:8080/"
        },
        "id": "UZH_Qbgrx8AZ",
        "outputId": "51085c79-5fa4-44f1-c19b-5a106db2c037"
      },
      "execution_count": 4,
      "outputs": [
        {
          "output_type": "stream",
          "name": "stdout",
          "text": [
            "HELLO\n"
          ]
        }
      ]
    },
    {
      "cell_type": "code",
      "source": [
        "#Question5.Write a code to replace the word \"apple\" with \"orange\" in the string \"I like apple\"?\n",
        "string =\"I like apple\"\n",
        "print(string.replace(\"apple\",\"orange\"))"
      ],
      "metadata": {
        "colab": {
          "base_uri": "https://localhost:8080/"
        },
        "id": "DuPAMN3hx789",
        "outputId": "841782f7-b1ee-4556-c829-c5b91eda720c"
      },
      "execution_count": 5,
      "outputs": [
        {
          "output_type": "stream",
          "name": "stdout",
          "text": [
            "I like orange\n"
          ]
        }
      ]
    },
    {
      "cell_type": "code",
      "source": [
        "#Question6.Write a code to create a list with numbers 1 to 5 and print it\n",
        "list = [1,2,3,4,5]\n",
        "print(list)"
      ],
      "metadata": {
        "colab": {
          "base_uri": "https://localhost:8080/"
        },
        "id": "WHC9ODhHx7aO",
        "outputId": "06a553fa-f2e7-4ebe-fe8d-cf78c54f3e88"
      },
      "execution_count": 6,
      "outputs": [
        {
          "output_type": "stream",
          "name": "stdout",
          "text": [
            "[1, 2, 3, 4, 5]\n"
          ]
        }
      ]
    },
    {
      "cell_type": "code",
      "source": [
        "#Question7.E Write a code to append the number 10 to the list [1, 2, 3, 4]E\n",
        "List =[1,2,3,4]\n",
        "List.append(10)\n",
        "print(List)"
      ],
      "metadata": {
        "colab": {
          "base_uri": "https://localhost:8080/"
        },
        "id": "56jNS7vzzhda",
        "outputId": "e56771ad-1caa-41b5-f0b7-6f2eaa6f6a57"
      },
      "execution_count": 7,
      "outputs": [
        {
          "output_type": "stream",
          "name": "stdout",
          "text": [
            "[1, 2, 3, 4, 10]\n"
          ]
        }
      ]
    },
    {
      "cell_type": "code",
      "source": [
        "#Question8.Write a code to remove the number 3 from the list [1, 2, 3, 4, 5]?\n",
        "lis =[1,2,3,4,5]\n",
        "lis.remove(3)\n",
        "print(lis)"
      ],
      "metadata": {
        "colab": {
          "base_uri": "https://localhost:8080/"
        },
        "id": "KFIibiqKzhiF",
        "outputId": "34c533d7-4eab-460d-b6a5-e410e741fff6"
      },
      "execution_count": 8,
      "outputs": [
        {
          "output_type": "stream",
          "name": "stdout",
          "text": [
            "[1, 2, 4, 5]\n"
          ]
        }
      ]
    },
    {
      "cell_type": "code",
      "source": [
        "#Question9.Write a code to access the second element in the list ['a', 'b', 'c', 'd']?\n",
        "Lis = ['a', 'b','c', 'd']\n",
        "print(Lis[1])"
      ],
      "metadata": {
        "colab": {
          "base_uri": "https://localhost:8080/"
        },
        "id": "e6lPlGlRzhlj",
        "outputId": "8050a263-92da-4b31-f426-acd2ecfac07e"
      },
      "execution_count": 9,
      "outputs": [
        {
          "output_type": "stream",
          "name": "stdout",
          "text": [
            "b\n"
          ]
        }
      ]
    },
    {
      "cell_type": "code",
      "source": [
        "#Question10.Write a code to reverse the list [10, 20, 30, 40, 50]?\n",
        "lis =[10,20,30,40,50]\n",
        "print(lis[::-1])\n"
      ],
      "metadata": {
        "colab": {
          "base_uri": "https://localhost:8080/"
        },
        "id": "nxmIyR8Yzho4",
        "outputId": "e9f93cff-673b-417a-b870-4ccd186e41ea"
      },
      "execution_count": 10,
      "outputs": [
        {
          "output_type": "stream",
          "name": "stdout",
          "text": [
            "[50, 40, 30, 20, 10]\n"
          ]
        }
      ]
    },
    {
      "cell_type": "code",
      "source": [
        "#Question11. Write a code to create a tuple with the elements 10, 20, 30 and print it\n",
        "tup = (10,20,30)\n",
        "print(tup)"
      ],
      "metadata": {
        "colab": {
          "base_uri": "https://localhost:8080/"
        },
        "id": "acYGYG073TmZ",
        "outputId": "2cc1c284-cfc2-449b-f074-946cd928df69"
      },
      "execution_count": 11,
      "outputs": [
        {
          "output_type": "stream",
          "name": "stdout",
          "text": [
            "(10, 20, 30)\n"
          ]
        }
      ]
    },
    {
      "cell_type": "code",
      "source": [
        "#Question12.Write a code to access the first element of the tuple ('apple', 'banana', 'cherry').\n",
        "tup = ('apple', 'banana', 'cherry')\n",
        "print(tup[0])"
      ],
      "metadata": {
        "colab": {
          "base_uri": "https://localhost:8080/"
        },
        "id": "Rj_RA6dO3Tpm",
        "outputId": "637cfdc0-2e47-4d15-db61-24f975e1d547"
      },
      "execution_count": 12,
      "outputs": [
        {
          "output_type": "stream",
          "name": "stdout",
          "text": [
            "apple\n"
          ]
        }
      ]
    },
    {
      "cell_type": "code",
      "source": [
        "#Question13 Write a code to count how many times the number 2 appears in the tuple (1, 2, 3, 2, 4, 2).\n",
        "tup = (1,2,3,2,4,2)\n",
        "print(tup.count(2))"
      ],
      "metadata": {
        "colab": {
          "base_uri": "https://localhost:8080/"
        },
        "id": "6LSd7l173TuV",
        "outputId": "6a51c43b-2700-448d-9e7c-8c83dfa35d49"
      },
      "execution_count": 13,
      "outputs": [
        {
          "output_type": "stream",
          "name": "stdout",
          "text": [
            "3\n"
          ]
        }
      ]
    },
    {
      "cell_type": "code",
      "source": [
        "#Question14.Write a code to find the index of the element \"cat\" in the tuple ('dog', 'cat', 'rabbit').\n",
        "tup=('dog', 'cat', 'rabbit')\n",
        "print(tup.index(\"cat\"))"
      ],
      "metadata": {
        "colab": {
          "base_uri": "https://localhost:8080/"
        },
        "id": "YhFvfrAp3TyI",
        "outputId": "84c45d82-c2d9-45ef-e1ed-8847757566bc"
      },
      "execution_count": 14,
      "outputs": [
        {
          "output_type": "stream",
          "name": "stdout",
          "text": [
            "1\n"
          ]
        }
      ]
    },
    {
      "cell_type": "code",
      "source": [
        "#Question15. Write a code to check if the element \"banana\" is in the tuple ('apple', 'orange', 'banana')?\n",
        "tup = ('apple', 'orange', 'banana')\n",
        "print(\"banana\" in tup)"
      ],
      "metadata": {
        "colab": {
          "base_uri": "https://localhost:8080/"
        },
        "id": "-o9NCOHP32Wg",
        "outputId": "88bbb920-bcb5-40fd-ae61-857973312f3e"
      },
      "execution_count": 15,
      "outputs": [
        {
          "output_type": "stream",
          "name": "stdout",
          "text": [
            "True\n"
          ]
        }
      ]
    },
    {
      "cell_type": "code",
      "source": [
        "#Question16.. Write a code to create a set with the elements 1, 2, 3, 4, 5 and print it.\n",
        "set = {1,2,3,4,5}\n",
        "print(set)"
      ],
      "metadata": {
        "colab": {
          "base_uri": "https://localhost:8080/"
        },
        "id": "yZzicbtD32aW",
        "outputId": "e6b3bc27-3cfd-430a-e044-24e23c536256"
      },
      "execution_count": 16,
      "outputs": [
        {
          "output_type": "stream",
          "name": "stdout",
          "text": [
            "{1, 2, 3, 4, 5}\n"
          ]
        }
      ]
    },
    {
      "cell_type": "code",
      "source": [
        "#Question17 Write a code to add the element 6 to the set {1, 2, 3, 4}.\n",
        "set = {1,2,3,4}\n",
        "set.add(6)\n",
        "print(set)"
      ],
      "metadata": {
        "colab": {
          "base_uri": "https://localhost:8080/"
        },
        "id": "A9cNTqZD4D1D",
        "outputId": "6e2cf0c3-e7af-46cb-bcf7-76ad54f30d00"
      },
      "execution_count": 17,
      "outputs": [
        {
          "output_type": "stream",
          "name": "stdout",
          "text": [
            "{1, 2, 3, 4, 6}\n"
          ]
        }
      ]
    },
    {
      "cell_type": "code",
      "source": [
        "#Question18,19,20,21,22,23,24 are the same question so the above solution is considerd from my side"
      ],
      "metadata": {
        "id": "9F0vGAmb4D4e"
      },
      "execution_count": null,
      "outputs": []
    },
    {
      "cell_type": "code",
      "source": [],
      "metadata": {
        "id": "k2O9p4nJ4D7K"
      },
      "execution_count": null,
      "outputs": []
    },
    {
      "cell_type": "code",
      "source": [],
      "metadata": {
        "id": "IDKCQ5YO4D9z"
      },
      "execution_count": null,
      "outputs": []
    }
  ]
}